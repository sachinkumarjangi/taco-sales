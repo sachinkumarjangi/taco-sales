{
  "nbformat": 4,
  "nbformat_minor": 0,
  "metadata": {
    "colab": {
      "provenance": [],
      "authorship_tag": "ABX9TyPZIdJ1t2p8VN3el5YOv5OA",
      "include_colab_link": true
    },
    "kernelspec": {
      "name": "python3",
      "display_name": "Python 3"
    },
    "language_info": {
      "name": "python"
    }
  },
  "cells": [
    {
      "cell_type": "markdown",
      "metadata": {
        "id": "view-in-github",
        "colab_type": "text"
      },
      "source": [
        "<a href=\"https://colab.research.google.com/github/sachinkumarjangi/taco-sales/blob/main/feature_engineering.ipynb\" target=\"_parent\"><img src=\"https://colab.research.google.com/assets/colab-badge.svg\" alt=\"Open In Colab\"/></a>"
      ]
    },
    {
      "cell_type": "code",
      "execution_count": 4,
      "metadata": {
        "id": "rPkB6v9gvjzr"
      },
      "outputs": [],
      "source": [
        "import pandas as pd\n",
        "import numpy as np\n",
        "import matplotlib.pyplot as plt\n",
        "import seaborn as sns\n",
        "import kagglehub"
      ]
    },
    {
      "source": [
        "from google.colab import drive\n",
        "drive.mount('/content/drive')"
      ],
      "cell_type": "code",
      "metadata": {
        "colab": {
          "base_uri": "https://localhost:8080/"
        },
        "id": "TJhiVKJ8wKhf",
        "outputId": "d149268a-8a64-4f16-81af-8cbcd03b3378"
      },
      "execution_count": 9,
      "outputs": [
        {
          "output_type": "stream",
          "name": "stdout",
          "text": [
            "Mounted at /content/drive\n"
          ]
        }
      ]
    },
    {
      "cell_type": "code",
      "metadata": {
        "colab": {
          "base_uri": "https://localhost:8080/",
          "height": 327
        },
        "id": "dd5ef4e1",
        "outputId": "40805f5c-8adb-43ac-8c85-cdb0d28f5077"
      },
      "source": [
        "import pandas as pd\n",
        "\n",
        "# Replace '/content/drive/My Drive/path/to/your/sales_data.csv' with the actual path to your file in Google Drive\n",
        "file_path = '/content/drive/My Drive/sales_data.csv'\n",
        "try:\n",
        "    Data = pd.read_csv(file_path)\n",
        "    print(\"Data loaded successfully!\")\n",
        "    display(Data.head())\n",
        "except FileNotFoundError:\n",
        "    print(f\"Error: The file was not found at {file_path}\")\n",
        "    print(\"Please update the 'file_path' variable with the correct path to your CSV file in Google Drive.\")\n",
        "except Exception as e:\n",
        "    print(f\"An error occurred while reading the CSV file: {e}\")"
      ],
      "execution_count": 11,
      "outputs": [
        {
          "output_type": "stream",
          "name": "stdout",
          "text": [
            "Data loaded successfully!\n"
          ]
        },
        {
          "output_type": "display_data",
          "data": {
            "text/plain": [
              "         Date Store ID Product ID     Category Region  Inventory Level  \\\n",
              "0  2022-01-01     S001      P0001  Electronics  North              195   \n",
              "1  2022-01-01     S001      P0002     Clothing  North              117   \n",
              "2  2022-01-01     S001      P0003     Clothing  North              247   \n",
              "3  2022-01-01     S001      P0004  Electronics  North              139   \n",
              "4  2022-01-01     S001      P0005    Groceries  North              152   \n",
              "\n",
              "   Units Sold  Units Ordered  Price  Discount Weather Condition  Promotion  \\\n",
              "0         102            252  72.72         5             Snowy          0   \n",
              "1         117            249  80.16        15             Snowy          1   \n",
              "2         114            612  62.94        10             Snowy          1   \n",
              "3          45            102  87.63        10             Snowy          0   \n",
              "4          65            271  54.41         0             Snowy          0   \n",
              "\n",
              "   Competitor Pricing Seasonality  Epidemic  Demand  \n",
              "0               85.73      Winter         0     115  \n",
              "1               92.02      Winter         0     229  \n",
              "2               60.08      Winter         0     157  \n",
              "3               85.19      Winter         0      52  \n",
              "4               51.63      Winter         0      59  "
            ],
            "text/html": [
              "\n",
              "  <div id=\"df-9f0ad2e9-e530-40d7-9d66-66cac7a32bf2\" class=\"colab-df-container\">\n",
              "    <div>\n",
              "<style scoped>\n",
              "    .dataframe tbody tr th:only-of-type {\n",
              "        vertical-align: middle;\n",
              "    }\n",
              "\n",
              "    .dataframe tbody tr th {\n",
              "        vertical-align: top;\n",
              "    }\n",
              "\n",
              "    .dataframe thead th {\n",
              "        text-align: right;\n",
              "    }\n",
              "</style>\n",
              "<table border=\"1\" class=\"dataframe\">\n",
              "  <thead>\n",
              "    <tr style=\"text-align: right;\">\n",
              "      <th></th>\n",
              "      <th>Date</th>\n",
              "      <th>Store ID</th>\n",
              "      <th>Product ID</th>\n",
              "      <th>Category</th>\n",
              "      <th>Region</th>\n",
              "      <th>Inventory Level</th>\n",
              "      <th>Units Sold</th>\n",
              "      <th>Units Ordered</th>\n",
              "      <th>Price</th>\n",
              "      <th>Discount</th>\n",
              "      <th>Weather Condition</th>\n",
              "      <th>Promotion</th>\n",
              "      <th>Competitor Pricing</th>\n",
              "      <th>Seasonality</th>\n",
              "      <th>Epidemic</th>\n",
              "      <th>Demand</th>\n",
              "    </tr>\n",
              "  </thead>\n",
              "  <tbody>\n",
              "    <tr>\n",
              "      <th>0</th>\n",
              "      <td>2022-01-01</td>\n",
              "      <td>S001</td>\n",
              "      <td>P0001</td>\n",
              "      <td>Electronics</td>\n",
              "      <td>North</td>\n",
              "      <td>195</td>\n",
              "      <td>102</td>\n",
              "      <td>252</td>\n",
              "      <td>72.72</td>\n",
              "      <td>5</td>\n",
              "      <td>Snowy</td>\n",
              "      <td>0</td>\n",
              "      <td>85.73</td>\n",
              "      <td>Winter</td>\n",
              "      <td>0</td>\n",
              "      <td>115</td>\n",
              "    </tr>\n",
              "    <tr>\n",
              "      <th>1</th>\n",
              "      <td>2022-01-01</td>\n",
              "      <td>S001</td>\n",
              "      <td>P0002</td>\n",
              "      <td>Clothing</td>\n",
              "      <td>North</td>\n",
              "      <td>117</td>\n",
              "      <td>117</td>\n",
              "      <td>249</td>\n",
              "      <td>80.16</td>\n",
              "      <td>15</td>\n",
              "      <td>Snowy</td>\n",
              "      <td>1</td>\n",
              "      <td>92.02</td>\n",
              "      <td>Winter</td>\n",
              "      <td>0</td>\n",
              "      <td>229</td>\n",
              "    </tr>\n",
              "    <tr>\n",
              "      <th>2</th>\n",
              "      <td>2022-01-01</td>\n",
              "      <td>S001</td>\n",
              "      <td>P0003</td>\n",
              "      <td>Clothing</td>\n",
              "      <td>North</td>\n",
              "      <td>247</td>\n",
              "      <td>114</td>\n",
              "      <td>612</td>\n",
              "      <td>62.94</td>\n",
              "      <td>10</td>\n",
              "      <td>Snowy</td>\n",
              "      <td>1</td>\n",
              "      <td>60.08</td>\n",
              "      <td>Winter</td>\n",
              "      <td>0</td>\n",
              "      <td>157</td>\n",
              "    </tr>\n",
              "    <tr>\n",
              "      <th>3</th>\n",
              "      <td>2022-01-01</td>\n",
              "      <td>S001</td>\n",
              "      <td>P0004</td>\n",
              "      <td>Electronics</td>\n",
              "      <td>North</td>\n",
              "      <td>139</td>\n",
              "      <td>45</td>\n",
              "      <td>102</td>\n",
              "      <td>87.63</td>\n",
              "      <td>10</td>\n",
              "      <td>Snowy</td>\n",
              "      <td>0</td>\n",
              "      <td>85.19</td>\n",
              "      <td>Winter</td>\n",
              "      <td>0</td>\n",
              "      <td>52</td>\n",
              "    </tr>\n",
              "    <tr>\n",
              "      <th>4</th>\n",
              "      <td>2022-01-01</td>\n",
              "      <td>S001</td>\n",
              "      <td>P0005</td>\n",
              "      <td>Groceries</td>\n",
              "      <td>North</td>\n",
              "      <td>152</td>\n",
              "      <td>65</td>\n",
              "      <td>271</td>\n",
              "      <td>54.41</td>\n",
              "      <td>0</td>\n",
              "      <td>Snowy</td>\n",
              "      <td>0</td>\n",
              "      <td>51.63</td>\n",
              "      <td>Winter</td>\n",
              "      <td>0</td>\n",
              "      <td>59</td>\n",
              "    </tr>\n",
              "  </tbody>\n",
              "</table>\n",
              "</div>\n",
              "    <div class=\"colab-df-buttons\">\n",
              "\n",
              "  <div class=\"colab-df-container\">\n",
              "    <button class=\"colab-df-convert\" onclick=\"convertToInteractive('df-9f0ad2e9-e530-40d7-9d66-66cac7a32bf2')\"\n",
              "            title=\"Convert this dataframe to an interactive table.\"\n",
              "            style=\"display:none;\">\n",
              "\n",
              "  <svg xmlns=\"http://www.w3.org/2000/svg\" height=\"24px\" viewBox=\"0 -960 960 960\">\n",
              "    <path d=\"M120-120v-720h720v720H120Zm60-500h600v-160H180v160Zm220 220h160v-160H400v160Zm0 220h160v-160H400v160ZM180-400h160v-160H180v160Zm440 0h160v-160H620v160ZM180-180h160v-160H180v160Zm440 0h160v-160H620v160Z\"/>\n",
              "  </svg>\n",
              "    </button>\n",
              "\n",
              "  <style>\n",
              "    .colab-df-container {\n",
              "      display:flex;\n",
              "      gap: 12px;\n",
              "    }\n",
              "\n",
              "    .colab-df-convert {\n",
              "      background-color: #E8F0FE;\n",
              "      border: none;\n",
              "      border-radius: 50%;\n",
              "      cursor: pointer;\n",
              "      display: none;\n",
              "      fill: #1967D2;\n",
              "      height: 32px;\n",
              "      padding: 0 0 0 0;\n",
              "      width: 32px;\n",
              "    }\n",
              "\n",
              "    .colab-df-convert:hover {\n",
              "      background-color: #E2EBFA;\n",
              "      box-shadow: 0px 1px 2px rgba(60, 64, 67, 0.3), 0px 1px 3px 1px rgba(60, 64, 67, 0.15);\n",
              "      fill: #174EA6;\n",
              "    }\n",
              "\n",
              "    .colab-df-buttons div {\n",
              "      margin-bottom: 4px;\n",
              "    }\n",
              "\n",
              "    [theme=dark] .colab-df-convert {\n",
              "      background-color: #3B4455;\n",
              "      fill: #D2E3FC;\n",
              "    }\n",
              "\n",
              "    [theme=dark] .colab-df-convert:hover {\n",
              "      background-color: #434B5C;\n",
              "      box-shadow: 0px 1px 3px 1px rgba(0, 0, 0, 0.15);\n",
              "      filter: drop-shadow(0px 1px 2px rgba(0, 0, 0, 0.3));\n",
              "      fill: #FFFFFF;\n",
              "    }\n",
              "  </style>\n",
              "\n",
              "    <script>\n",
              "      const buttonEl =\n",
              "        document.querySelector('#df-9f0ad2e9-e530-40d7-9d66-66cac7a32bf2 button.colab-df-convert');\n",
              "      buttonEl.style.display =\n",
              "        google.colab.kernel.accessAllowed ? 'block' : 'none';\n",
              "\n",
              "      async function convertToInteractive(key) {\n",
              "        const element = document.querySelector('#df-9f0ad2e9-e530-40d7-9d66-66cac7a32bf2');\n",
              "        const dataTable =\n",
              "          await google.colab.kernel.invokeFunction('convertToInteractive',\n",
              "                                                    [key], {});\n",
              "        if (!dataTable) return;\n",
              "\n",
              "        const docLinkHtml = 'Like what you see? Visit the ' +\n",
              "          '<a target=\"_blank\" href=https://colab.research.google.com/notebooks/data_table.ipynb>data table notebook</a>'\n",
              "          + ' to learn more about interactive tables.';\n",
              "        element.innerHTML = '';\n",
              "        dataTable['output_type'] = 'display_data';\n",
              "        await google.colab.output.renderOutput(dataTable, element);\n",
              "        const docLink = document.createElement('div');\n",
              "        docLink.innerHTML = docLinkHtml;\n",
              "        element.appendChild(docLink);\n",
              "      }\n",
              "    </script>\n",
              "  </div>\n",
              "\n",
              "\n",
              "    <div id=\"df-f526e612-a3bc-4318-b19e-1f124feda67a\">\n",
              "      <button class=\"colab-df-quickchart\" onclick=\"quickchart('df-f526e612-a3bc-4318-b19e-1f124feda67a')\"\n",
              "                title=\"Suggest charts\"\n",
              "                style=\"display:none;\">\n",
              "\n",
              "<svg xmlns=\"http://www.w3.org/2000/svg\" height=\"24px\"viewBox=\"0 0 24 24\"\n",
              "     width=\"24px\">\n",
              "    <g>\n",
              "        <path d=\"M19 3H5c-1.1 0-2 .9-2 2v14c0 1.1.9 2 2 2h14c1.1 0 2-.9 2-2V5c0-1.1-.9-2-2-2zM9 17H7v-7h2v7zm4 0h-2V7h2v10zm4 0h-2v-4h2v4z\"/>\n",
              "    </g>\n",
              "</svg>\n",
              "      </button>\n",
              "\n",
              "<style>\n",
              "  .colab-df-quickchart {\n",
              "      --bg-color: #E8F0FE;\n",
              "      --fill-color: #1967D2;\n",
              "      --hover-bg-color: #E2EBFA;\n",
              "      --hover-fill-color: #174EA6;\n",
              "      --disabled-fill-color: #AAA;\n",
              "      --disabled-bg-color: #DDD;\n",
              "  }\n",
              "\n",
              "  [theme=dark] .colab-df-quickchart {\n",
              "      --bg-color: #3B4455;\n",
              "      --fill-color: #D2E3FC;\n",
              "      --hover-bg-color: #434B5C;\n",
              "      --hover-fill-color: #FFFFFF;\n",
              "      --disabled-bg-color: #3B4455;\n",
              "      --disabled-fill-color: #666;\n",
              "  }\n",
              "\n",
              "  .colab-df-quickchart {\n",
              "    background-color: var(--bg-color);\n",
              "    border: none;\n",
              "    border-radius: 50%;\n",
              "    cursor: pointer;\n",
              "    display: none;\n",
              "    fill: var(--fill-color);\n",
              "    height: 32px;\n",
              "    padding: 0;\n",
              "    width: 32px;\n",
              "  }\n",
              "\n",
              "  .colab-df-quickchart:hover {\n",
              "    background-color: var(--hover-bg-color);\n",
              "    box-shadow: 0 1px 2px rgba(60, 64, 67, 0.3), 0 1px 3px 1px rgba(60, 64, 67, 0.15);\n",
              "    fill: var(--button-hover-fill-color);\n",
              "  }\n",
              "\n",
              "  .colab-df-quickchart-complete:disabled,\n",
              "  .colab-df-quickchart-complete:disabled:hover {\n",
              "    background-color: var(--disabled-bg-color);\n",
              "    fill: var(--disabled-fill-color);\n",
              "    box-shadow: none;\n",
              "  }\n",
              "\n",
              "  .colab-df-spinner {\n",
              "    border: 2px solid var(--fill-color);\n",
              "    border-color: transparent;\n",
              "    border-bottom-color: var(--fill-color);\n",
              "    animation:\n",
              "      spin 1s steps(1) infinite;\n",
              "  }\n",
              "\n",
              "  @keyframes spin {\n",
              "    0% {\n",
              "      border-color: transparent;\n",
              "      border-bottom-color: var(--fill-color);\n",
              "      border-left-color: var(--fill-color);\n",
              "    }\n",
              "    20% {\n",
              "      border-color: transparent;\n",
              "      border-left-color: var(--fill-color);\n",
              "      border-top-color: var(--fill-color);\n",
              "    }\n",
              "    30% {\n",
              "      border-color: transparent;\n",
              "      border-left-color: var(--fill-color);\n",
              "      border-top-color: var(--fill-color);\n",
              "      border-right-color: var(--fill-color);\n",
              "    }\n",
              "    40% {\n",
              "      border-color: transparent;\n",
              "      border-right-color: var(--fill-color);\n",
              "      border-top-color: var(--fill-color);\n",
              "    }\n",
              "    60% {\n",
              "      border-color: transparent;\n",
              "      border-right-color: var(--fill-color);\n",
              "    }\n",
              "    80% {\n",
              "      border-color: transparent;\n",
              "      border-right-color: var(--fill-color);\n",
              "      border-bottom-color: var(--fill-color);\n",
              "    }\n",
              "    90% {\n",
              "      border-color: transparent;\n",
              "      border-bottom-color: var(--fill-color);\n",
              "    }\n",
              "  }\n",
              "</style>\n",
              "\n",
              "      <script>\n",
              "        async function quickchart(key) {\n",
              "          const quickchartButtonEl =\n",
              "            document.querySelector('#' + key + ' button');\n",
              "          quickchartButtonEl.disabled = true;  // To prevent multiple clicks.\n",
              "          quickchartButtonEl.classList.add('colab-df-spinner');\n",
              "          try {\n",
              "            const charts = await google.colab.kernel.invokeFunction(\n",
              "                'suggestCharts', [key], {});\n",
              "          } catch (error) {\n",
              "            console.error('Error during call to suggestCharts:', error);\n",
              "          }\n",
              "          quickchartButtonEl.classList.remove('colab-df-spinner');\n",
              "          quickchartButtonEl.classList.add('colab-df-quickchart-complete');\n",
              "        }\n",
              "        (() => {\n",
              "          let quickchartButtonEl =\n",
              "            document.querySelector('#df-f526e612-a3bc-4318-b19e-1f124feda67a button');\n",
              "          quickchartButtonEl.style.display =\n",
              "            google.colab.kernel.accessAllowed ? 'block' : 'none';\n",
              "        })();\n",
              "      </script>\n",
              "    </div>\n",
              "\n",
              "    </div>\n",
              "  </div>\n"
            ],
            "application/vnd.google.colaboratory.intrinsic+json": {
              "type": "dataframe",
              "summary": "{\n  \"name\": \"    print(f\\\"An error occurred while reading the CSV file: {e}\\\")\",\n  \"rows\": 5,\n  \"fields\": [\n    {\n      \"column\": \"Date\",\n      \"properties\": {\n        \"dtype\": \"object\",\n        \"num_unique_values\": 1,\n        \"samples\": [\n          \"2022-01-01\"\n        ],\n        \"semantic_type\": \"\",\n        \"description\": \"\"\n      }\n    },\n    {\n      \"column\": \"Store ID\",\n      \"properties\": {\n        \"dtype\": \"category\",\n        \"num_unique_values\": 1,\n        \"samples\": [\n          \"S001\"\n        ],\n        \"semantic_type\": \"\",\n        \"description\": \"\"\n      }\n    },\n    {\n      \"column\": \"Product ID\",\n      \"properties\": {\n        \"dtype\": \"string\",\n        \"num_unique_values\": 5,\n        \"samples\": [\n          \"P0002\"\n        ],\n        \"semantic_type\": \"\",\n        \"description\": \"\"\n      }\n    },\n    {\n      \"column\": \"Category\",\n      \"properties\": {\n        \"dtype\": \"string\",\n        \"num_unique_values\": 3,\n        \"samples\": [\n          \"Electronics\"\n        ],\n        \"semantic_type\": \"\",\n        \"description\": \"\"\n      }\n    },\n    {\n      \"column\": \"Region\",\n      \"properties\": {\n        \"dtype\": \"category\",\n        \"num_unique_values\": 1,\n        \"samples\": [\n          \"North\"\n        ],\n        \"semantic_type\": \"\",\n        \"description\": \"\"\n      }\n    },\n    {\n      \"column\": \"Inventory Level\",\n      \"properties\": {\n        \"dtype\": \"number\",\n        \"std\": 51,\n        \"min\": 117,\n        \"max\": 247,\n        \"num_unique_values\": 5,\n        \"samples\": [\n          117\n        ],\n        \"semantic_type\": \"\",\n        \"description\": \"\"\n      }\n    },\n    {\n      \"column\": \"Units Sold\",\n      \"properties\": {\n        \"dtype\": \"number\",\n        \"std\": 31,\n        \"min\": 45,\n        \"max\": 117,\n        \"num_unique_values\": 5,\n        \"samples\": [\n          117\n        ],\n        \"semantic_type\": \"\",\n        \"description\": \"\"\n      }\n    },\n    {\n      \"column\": \"Units Ordered\",\n      \"properties\": {\n        \"dtype\": \"number\",\n        \"std\": 188,\n        \"min\": 102,\n        \"max\": 612,\n        \"num_unique_values\": 5,\n        \"samples\": [\n          249\n        ],\n        \"semantic_type\": \"\",\n        \"description\": \"\"\n      }\n    },\n    {\n      \"column\": \"Price\",\n      \"properties\": {\n        \"dtype\": \"number\",\n        \"std\": 13.247421258494047,\n        \"min\": 54.41,\n        \"max\": 87.63,\n        \"num_unique_values\": 5,\n        \"samples\": [\n          80.16\n        ],\n        \"semantic_type\": \"\",\n        \"description\": \"\"\n      }\n    },\n    {\n      \"column\": \"Discount\",\n      \"properties\": {\n        \"dtype\": \"number\",\n        \"std\": 5,\n        \"min\": 0,\n        \"max\": 15,\n        \"num_unique_values\": 4,\n        \"samples\": [\n          15\n        ],\n        \"semantic_type\": \"\",\n        \"description\": \"\"\n      }\n    },\n    {\n      \"column\": \"Weather Condition\",\n      \"properties\": {\n        \"dtype\": \"category\",\n        \"num_unique_values\": 1,\n        \"samples\": [\n          \"Snowy\"\n        ],\n        \"semantic_type\": \"\",\n        \"description\": \"\"\n      }\n    },\n    {\n      \"column\": \"Promotion\",\n      \"properties\": {\n        \"dtype\": \"number\",\n        \"std\": 0,\n        \"min\": 0,\n        \"max\": 1,\n        \"num_unique_values\": 2,\n        \"samples\": [\n          1\n        ],\n        \"semantic_type\": \"\",\n        \"description\": \"\"\n      }\n    },\n    {\n      \"column\": \"Competitor Pricing\",\n      \"properties\": {\n        \"dtype\": \"number\",\n        \"std\": 17.870283993266586,\n        \"min\": 51.63,\n        \"max\": 92.02,\n        \"num_unique_values\": 5,\n        \"samples\": [\n          92.02\n        ],\n        \"semantic_type\": \"\",\n        \"description\": \"\"\n      }\n    },\n    {\n      \"column\": \"Seasonality\",\n      \"properties\": {\n        \"dtype\": \"category\",\n        \"num_unique_values\": 1,\n        \"samples\": [\n          \"Winter\"\n        ],\n        \"semantic_type\": \"\",\n        \"description\": \"\"\n      }\n    },\n    {\n      \"column\": \"Epidemic\",\n      \"properties\": {\n        \"dtype\": \"number\",\n        \"std\": 0,\n        \"min\": 0,\n        \"max\": 0,\n        \"num_unique_values\": 1,\n        \"samples\": [\n          0\n        ],\n        \"semantic_type\": \"\",\n        \"description\": \"\"\n      }\n    },\n    {\n      \"column\": \"Demand\",\n      \"properties\": {\n        \"dtype\": \"number\",\n        \"std\": 73,\n        \"min\": 52,\n        \"max\": 229,\n        \"num_unique_values\": 5,\n        \"samples\": [\n          229\n        ],\n        \"semantic_type\": \"\",\n        \"description\": \"\"\n      }\n    }\n  ]\n}"
            }
          },
          "metadata": {}
        }
      ]
    },
    {
      "cell_type": "code",
      "source": [
        "data_dropped=Data.dropna()\n",
        "data_filled = Data.fillna({'Category':'unknown','Store ID':'unknown','Product ID':'unknown','Region':'unknown','Weather Condition':'unknown','Seasonality':'unknown'})"
      ],
      "metadata": {
        "id": "q2hXH-AMxdJZ"
      },
      "execution_count": 13,
      "outputs": []
    },
    {
      "cell_type": "code",
      "source": [
        "average = Data['Price'].mean()\n",
        "Data['Price'] = Data['Price'].fillna(average)"
      ],
      "metadata": {
        "id": "j8FbWYXS9ZRF"
      },
      "execution_count": 16,
      "outputs": []
    },
    {
      "cell_type": "code",
      "source": [
        "total_sales=Data['Units Sold'].sum()\n",
        "print(f\"Total sales: {total_sales}\")"
      ],
      "metadata": {
        "colab": {
          "base_uri": "https://localhost:8080/"
        },
        "id": "5pPZ-O_q-yi0",
        "outputId": "dd7882d6-15b2-480f-b411-0ce2ec514e95"
      },
      "execution_count": 18,
      "outputs": [
        {
          "output_type": "stream",
          "name": "stdout",
          "text": [
            "Total sales: 6750876\n"
          ]
        }
      ]
    },
    {
      "cell_type": "code",
      "source": [
        "total_price=Data['Price'].sum()\n",
        "print(f\"Total price: {total_price}\")"
      ],
      "metadata": {
        "colab": {
          "base_uri": "https://localhost:8080/"
        },
        "id": "USw6WJNl_jw8",
        "outputId": "023cb746-09e8-402b-fb46-8dd9e1723f10"
      },
      "execution_count": 19,
      "outputs": [
        {
          "output_type": "stream",
          "name": "stdout",
          "text": [
            "Total price: 5147178.09\n"
          ]
        }
      ]
    },
    {
      "cell_type": "code",
      "source": [
        "total_units_ordered = Data['Units Ordered'].sum()\n",
        "print(f\"Total units ordered: {total_units_ordered}\")"
      ],
      "metadata": {
        "colab": {
          "base_uri": "https://localhost:8080/"
        },
        "id": "o2khN-T1_2YE",
        "outputId": "cbb3f591-373f-42d6-bf52-cf68dcda9473"
      },
      "execution_count": 21,
      "outputs": [
        {
          "output_type": "stream",
          "name": "stdout",
          "text": [
            "Total units ordered: 6770889\n"
          ]
        }
      ]
    },
    {
      "cell_type": "code",
      "source": [
        "toatl_Demand=Data['Demand'].sum()\n",
        "print(f\"Total demand: {toatl_Demand}\")"
      ],
      "metadata": {
        "colab": {
          "base_uri": "https://localhost:8080/"
        },
        "id": "hvWbhrQUA31M",
        "outputId": "b64213b6-47f0-4253-d7fa-fd23878f3185"
      },
      "execution_count": 22,
      "outputs": [
        {
          "output_type": "stream",
          "name": "stdout",
          "text": [
            "Total demand: 7928104\n"
          ]
        }
      ]
    },
    {
      "cell_type": "code",
      "source": [
        "products =Data['product']\n",
        "sales = Data['Units_Sold']\n",
        "demand = Data['Demand']\n",
        "x=range(len(products))\n",
        "width=0.05\n",
        "plt.bar(x,sales,width,label='sales')\n",
        "plt.bar(x+width,demand,width,label='demand')\n",
        "plt.xlabel(x,products)\n",
        "plt.ylabel('units_sold')\n",
        "plt.title('demand')\n",
        "plt.legend()\n",
        "plt.show()"
      ],
      "metadata": {
        "id": "sKw0_0V0Ez7y"
      },
      "execution_count": null,
      "outputs": []
    }
  ]
}